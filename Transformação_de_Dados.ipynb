{
  "nbformat": 4,
  "nbformat_minor": 0,
  "metadata": {
    "colab": {
      "provenance": [],
      "collapsed_sections": [
        "BiSf2LnAIWo4"
      ]
    },
    "kernelspec": {
      "name": "python3",
      "display_name": "Python 3"
    }
  },
  "cells": [
    {
      "metadata": {
        "id": "PjKEBdGTynHd"
      },
      "cell_type": "markdown",
      "source": [
        "# Notebook de transformação e análise de dados\n",
        "\n",
        "Código em Python para análise de dados.\n",
        "\n",
        "\n",
        "Este notebook foi desenvolvido para o ambiente GOOGLE COLAB ([colab.research.google.com](https://colab.research.google.com)).\n",
        "\n"
      ]
    },
    {
      "metadata": {
        "id": "gUYY894Qylai"
      },
      "cell_type": "markdown",
      "source": [
        "# Inicialização da plataforma\n",
        "\n",
        "A célula a seguir inicializa a plataforma, carregando as bibliotecas utilizadas nessa transformação.\n",
        "\n",
        "## Bibliotecas\n",
        "\n",
        "\n",
        "\n",
        "```numpy``` -- usada para processamento numérico.\n",
        "\n",
        "```pandas``` -- usada para manipulação de bases de dados.\n",
        "\n",
        "```pyplot``` -- usada para visualização de dados.\n",
        "\n",
        "```seaborn``` -- usada para visualização de dados.\n",
        "\n",
        "```matplotlib``` -- usada paracriação de diagramas e gráficos bidimensionais\n",
        "\n",
        "```sklearn``` -  usada para execuçãos de aprendizado de máquina e mineração de dados\n",
        "\n"
      ]
    },
    {
      "metadata": {
        "id": "NyeTED-9zxTC"
      },
      "cell_type": "code",
      "source": [
        "import numpy as np\n",
        "import pandas as pd\n",
        "import matplotlib.pyplot as plt\n",
        "import seaborn as sns\n",
        "import seaborn as sn\n",
        "import seaborn\n",
        "from sklearn.model_selection        import train_test_split\n",
        "from sklearn                        import preprocessing\n",
        "from sklearn                        import metrics\n",
        "from sklearn                        import metrics, svm\n",
        "from sklearn.linear_model           import LinearRegression\n",
        "from sklearn.linear_model           import LogisticRegression\n",
        "from sklearn.tree                   import DecisionTreeClassifier\n",
        "from sklearn.linear_model           import Ridge\n",
        "from sklearn.linear_model           import Lasso\n",
        "from sklearn.linear_model           import ElasticNet\n",
        "from sklearn.ensemble               import RandomForestRegressor\n"
      ],
      "execution_count": 1,
      "outputs": []
    },
    {
      "cell_type": "markdown",
      "source": [
        "#Parâmetros de dimencionamento para exibição de dados"
      ],
      "metadata": {
        "id": "I8mKwd1nB_QR"
      }
    },
    {
      "cell_type": "code",
      "source": [
        "np.set_printoptions(threshold=None, precision=2)\n",
        "pd.set_option('display.max_columns', 80)\n",
        "pd.set_option('display.max_rows', 80)\n"
      ],
      "metadata": {
        "id": "X0WwVNREPhh-"
      },
      "execution_count": 2,
      "outputs": []
    },
    {
      "cell_type": "markdown",
      "source": [
        "#Importar base de dados: Microdados do Censo\n",
        "\n",
        "## Base de dados do Censo Escolar 2022\n",
        "\n",
        "Essa base de dados pode ser obtida em: https://download.inep.gov.br/dados_abertos/microdados_censo_escolar_2022.zip\n"
      ],
      "metadata": {
        "id": "JEnAE41TV411"
      }
    },
    {
      "cell_type": "code",
      "source": [
        "from google.colab import files\n",
        "\n",
        "uploaded = files.upload()"
      ],
      "metadata": {
        "id": "Go0Vb5ULMRpo"
      },
      "execution_count": null,
      "outputs": []
    },
    {
      "cell_type": "markdown",
      "source": [
        "#Criação do Dataframe CENSO\n",
        "Dataframe baseado nos microdados do Censco Escolar 2022.\n",
        "\n",
        "Conterá apenas os parâmetros definidos para a análise nesse projeto."
      ],
      "metadata": {
        "id": "xwu_xElZvcWy"
      }
    },
    {
      "cell_type": "code",
      "source": [
        "#Criando Dataframe CENSO\n",
        "CENSO = pd.read_csv('/content/microdados_ed_basica_2022.csv',  header = 0, sep=';',encoding='ISO-8859-1',usecols=['NO_UF', 'SG_UF', 'CO_MUNICIPIO', 'CO_ENTIDADE', 'IN_BIBLIOTECA', 'IN_BIBLIOTECA_SALA_LEITURA', 'IN_LABORATORIO_CIENCIAS', 'IN_LABORATORIO_INFORMATICA', 'IN_SALA_ATELIE_ARTES', 'IN_SALA_MUSICA_CORAL', 'IN_SALA_ESTUDIO_DANCA', 'IN_SALA_MULTIUSO', 'IN_SALA_LEITURA', 'IN_SALA_REPOUSO_ALUNO', 'IN_SALA_ATENDIMENTO_ESPECIAL', 'IN_DESKTOP_ALUNO', 'IN_COMP_PORTATIL_ALUNO', 'IN_TABLET_ALUNO', 'IN_PROF_BIBLIOTECARIO', 'IN_PROF_SAUDE', 'IN_PROF_COORDENADOR', 'IN_PROF_FONAUDIOLOGO', 'IN_PROF_NUTRICIONISTA', 'IN_PROF_PSICOLOGO', 'IN_PROF_PEDAGOGIA', 'IN_PROF_MONITORES','IN_PROF_ASSIST_SOCIAL'])\n"
      ],
      "metadata": {
        "id": "wDrjjGxaX27w"
      },
      "execution_count": 3,
      "outputs": []
    },
    {
      "cell_type": "markdown",
      "source": [
        "#Dimensões, campos e tipo de dados do Dataframe CENSO"
      ],
      "metadata": {
        "id": "HFnIfY-mwdUO"
      }
    },
    {
      "cell_type": "code",
      "source": [
        "#Avaliando dimensões\n",
        "print(\"\\nDimensões de CENSO:\\n{0}\\n\".format(CENSO.shape))\n",
        "print(\"\\nCampos de CENSO:\\n{0}\\n\".format(list(CENSO.keys())))\n",
        "print(\"\\nTipos dos CENSO:\\n{0}\\n\".format(CENSO.dtypes))"
      ],
      "metadata": {
        "id": "bT8MBsc8YIox"
      },
      "execution_count": null,
      "outputs": []
    },
    {
      "metadata": {
        "id": "Qbw3Lal73we2"
      },
      "cell_type": "markdown",
      "source": [
        "## Análise do Dataframe CENSO\n",
        "\n",
        "Verificação da existencia de dados faltantes.\n",
        "\n"
      ]
    },
    {
      "cell_type": "code",
      "source": [
        "#Exibe as colunas com elementos faltantes\n",
        "colunas_faltantes = CENSO.columns[CENSO.isna().any()].tolist()\n",
        "print(\"Colunas que contêm valores faltantes:\",colunas_faltantes)\n",
        "\n",
        "#Exibe o número de linhas que restariam caso excluídsemos as faltantes\n",
        "print(\"Número de linhas com valores faltantes:\",CENSO.shape[0]-CENSO.dropna().shape[0],\"\\n\")\n"
      ],
      "metadata": {
        "id": "jEvcmaitFkuD"
      },
      "execution_count": null,
      "outputs": []
    },
    {
      "cell_type": "markdown",
      "source": [
        "#Saneamento de dados faltantes no Dataframe CENSO\n",
        "\n",
        "---\n",
        "\n"
      ],
      "metadata": {
        "id": "W84i9yF3yPOz"
      }
    },
    {
      "cell_type": "code",
      "source": [
        "#Substitui valores nulos por 0 (zero)\n",
        "CENSO.fillna(0, inplace = True)\n"
      ],
      "metadata": {
        "id": "8Vtb0-ZJ2Ojw"
      },
      "execution_count": 6,
      "outputs": []
    },
    {
      "cell_type": "markdown",
      "source": [
        "#Agrupamento do Dataframe CENSO\n",
        "###Agrupamento das variáveis independentes por UF e Municipio num novo Dataframe chamado CENSOGRP\n",
        "\n",
        "Apesar dos valores numéricos '''0''' e '''1''' das variáveis independentes significar a existência ou não do recurso que representa (o que significa que são essencialmente são vairáveis categóricas),  utilizaremos as variáveis como quantitativas.\n",
        "Então, ao somar as variáveis podemos identificar a proporção de escolas que possuem tal recurso, em relação ao município.\n",
        "\n"
      ],
      "metadata": {
        "id": "ilHXgVYn--Gl"
      }
    },
    {
      "cell_type": "code",
      "source": [
        "#Agrupamento das variáveis por UF e Município\n",
        "CENSOGRP = CENSO.groupby(['NO_UF', 'SG_UF', 'CO_MUNICIPIO']).aggregate({'CO_ENTIDADE':'count' , 'IN_BIBLIOTECA':'sum', 'IN_BIBLIOTECA_SALA_LEITURA':'sum', 'IN_LABORATORIO_CIENCIAS':'sum', 'IN_LABORATORIO_INFORMATICA':'sum', 'IN_SALA_ATELIE_ARTES':'sum' , 'IN_SALA_MUSICA_CORAL':'sum', 'IN_SALA_ESTUDIO_DANCA':'sum', 'IN_SALA_MULTIUSO':'sum', 'IN_SALA_LEITURA':'sum', 'IN_SALA_REPOUSO_ALUNO':'sum', 'IN_SALA_ATENDIMENTO_ESPECIAL':'sum' , 'IN_DESKTOP_ALUNO':'sum', 'IN_COMP_PORTATIL_ALUNO':'sum', 'IN_TABLET_ALUNO':'sum', 'IN_PROF_BIBLIOTECARIO':'sum', 'IN_PROF_SAUDE':'sum', 'IN_PROF_COORDENADOR':'sum' , 'IN_PROF_FONAUDIOLOGO':'sum', 'IN_PROF_NUTRICIONISTA':'sum', 'IN_PROF_PSICOLOGO':'sum', 'IN_PROF_PEDAGOGIA':'sum', 'IN_PROF_MONITORES':'sum','IN_PROF_ASSIST_SOCIAL':'sum'}).reset_index()\n"
      ],
      "metadata": {
        "id": "KIUwpy0Pl8Op"
      },
      "execution_count": 7,
      "outputs": []
    },
    {
      "cell_type": "markdown",
      "source": [
        "#Exibição do Dataframe CENSOGRP\n"
      ],
      "metadata": {
        "id": "damURrILED9b"
      }
    },
    {
      "cell_type": "code",
      "source": [
        "#Foto do dataframe\n",
        "CENSOGRP"
      ],
      "metadata": {
        "id": "OsKdlKnJEImT"
      },
      "execution_count": null,
      "outputs": []
    },
    {
      "cell_type": "markdown",
      "source": [
        "#Sumário estatístico das colunas do Dataframe CENSOGRP\n"
      ],
      "metadata": {
        "id": "nIL0JlwZ1FId"
      }
    },
    {
      "cell_type": "code",
      "source": [
        "CENSOGRP.describe()"
      ],
      "metadata": {
        "id": "06ln1GfGA3_O"
      },
      "execution_count": null,
      "outputs": []
    },
    {
      "cell_type": "markdown",
      "source": [
        "#Transformação dos valores das variáveis independentes em Percentual"
      ],
      "metadata": {
        "id": "rPrXMKgW1NmN"
      }
    },
    {
      "cell_type": "code",
      "source": [
        "#Transformação dos dados em Percentual\n",
        "\n",
        "CENSOGRP['IN_BIBLIOTECA'] =                 CENSOGRP['IN_BIBLIOTECA'] /CENSOGRP['CO_ENTIDADE']*100\n",
        "CENSOGRP['IN_BIBLIOTECA_SALA_LEITURA'] =    CENSOGRP['IN_BIBLIOTECA_SALA_LEITURA'] /CENSOGRP['CO_ENTIDADE']*100\n",
        "CENSOGRP['IN_LABORATORIO_CIENCIAS'] =       CENSOGRP['IN_LABORATORIO_CIENCIAS'] /CENSOGRP['CO_ENTIDADE']*100\n",
        "CENSOGRP['IN_LABORATORIO_INFORMATICA']  =   CENSOGRP['IN_LABORATORIO_INFORMATICA']  /CENSOGRP['CO_ENTIDADE']*100\n",
        "CENSOGRP['IN_SALA_ATELIE_ARTES'] =          CENSOGRP['IN_SALA_ATELIE_ARTES'] /CENSOGRP['CO_ENTIDADE']*100\n",
        "CENSOGRP['IN_SALA_MUSICA_CORAL'] =          CENSOGRP['IN_SALA_MUSICA_CORAL'] /CENSOGRP['CO_ENTIDADE']*100\n",
        "CENSOGRP['IN_SALA_ESTUDIO_DANCA'] =         CENSOGRP['IN_SALA_ESTUDIO_DANCA'] /CENSOGRP['CO_ENTIDADE']*100\n",
        "CENSOGRP['IN_SALA_MULTIUSO'] =              CENSOGRP['IN_SALA_MULTIUSO'] /CENSOGRP['CO_ENTIDADE']*100\n",
        "CENSOGRP['IN_SALA_LEITURA'] =               CENSOGRP['IN_SALA_LEITURA'] /CENSOGRP['CO_ENTIDADE']*100\n",
        "CENSOGRP['IN_SALA_REPOUSO_ALUNO']=          CENSOGRP['IN_SALA_REPOUSO_ALUNO']  /CENSOGRP['CO_ENTIDADE']*100\n",
        "CENSOGRP['IN_SALA_ATENDIMENTO_ESPECIAL']=   CENSOGRP['IN_SALA_ATENDIMENTO_ESPECIAL']  /CENSOGRP['CO_ENTIDADE']*100\n",
        "CENSOGRP['IN_DESKTOP_ALUNO'] =              CENSOGRP['IN_DESKTOP_ALUNO'] /CENSOGRP['CO_ENTIDADE']*100\n",
        "CENSOGRP['IN_COMP_PORTATIL_ALUNO'] =        CENSOGRP['IN_COMP_PORTATIL_ALUNO'] /CENSOGRP['CO_ENTIDADE']*100\n",
        "CENSOGRP['IN_TABLET_ALUNO'] =               CENSOGRP['IN_TABLET_ALUNO'] /CENSOGRP['CO_ENTIDADE']*100\n",
        "CENSOGRP['IN_PROF_BIBLIOTECARIO'] =         CENSOGRP['IN_PROF_BIBLIOTECARIO'] /CENSOGRP['CO_ENTIDADE']*100\n",
        "CENSOGRP['IN_PROF_SAUDE'] =                 CENSOGRP['IN_PROF_SAUDE'] /CENSOGRP['CO_ENTIDADE']*100\n",
        "CENSOGRP['IN_PROF_COORDENADOR'] =           CENSOGRP['IN_PROF_COORDENADOR'] /CENSOGRP['CO_ENTIDADE']*100\n",
        "CENSOGRP['IN_PROF_FONAUDIOLOGO'] =          CENSOGRP['IN_PROF_FONAUDIOLOGO'] /CENSOGRP['CO_ENTIDADE']*100\n",
        "CENSOGRP['IN_PROF_NUTRICIONISTA'] =         CENSOGRP['IN_PROF_NUTRICIONISTA'] /CENSOGRP['CO_ENTIDADE']*100\n",
        "CENSOGRP['IN_PROF_PSICOLOGO'] =             CENSOGRP['IN_PROF_PSICOLOGO'] /CENSOGRP['CO_ENTIDADE']*100\n",
        "CENSOGRP['IN_PROF_MONITORES'] =             CENSOGRP['IN_PROF_MONITORES'] /CENSOGRP['CO_ENTIDADE']*100\n",
        "CENSOGRP['IN_PROF_ASSIST_SOCIAL'] =         CENSOGRP['IN_PROF_ASSIST_SOCIAL'] /CENSOGRP['CO_ENTIDADE']*100\n",
        "\n"
      ],
      "metadata": {
        "id": "9P-OqPC3wP-h"
      },
      "execution_count": null,
      "outputs": []
    },
    {
      "cell_type": "markdown",
      "source": [
        "## Análise do Dataframe CENSOGRP\n",
        "\n",
        "Verificação da existência de chaves duplicadas."
      ],
      "metadata": {
        "id": "E9FXdlwa1eIx"
      }
    },
    {
      "cell_type": "code",
      "source": [
        "print('Valores únicos',pd.Series(CENSO['CO_MUNICIPIO']).unique().shape)\n",
        "# Veremos que não há duplicidades."
      ],
      "metadata": {
        "id": "Zp8OWmtf2ESO"
      },
      "execution_count": null,
      "outputs": []
    },
    {
      "cell_type": "markdown",
      "source": [
        "#Histograma das variáveis do Dataframe CENSOGRP"
      ],
      "metadata": {
        "id": "jcA3UIOQxz7U"
      }
    },
    {
      "cell_type": "code",
      "source": [
        "#Histograma das variáveis\n",
        "CENSOGRP.hist( figsize=(20,20),   # Tamanho do gráfico\n",
        "                   bins=20)"
      ],
      "metadata": {
        "id": "WxPPI8zYUS-d"
      },
      "execution_count": null,
      "outputs": []
    },
    {
      "cell_type": "markdown",
      "source": [
        "#Matriz de correlação de atributos inteiros do Dataframe CENSOGRP"
      ],
      "metadata": {
        "id": "aRW51w5G0fek"
      }
    },
    {
      "cell_type": "code",
      "source": [
        "#Matriz de correlação de atributos inteiros\n",
        "int_fields = CENSOGRP.dtypes[CENSOGRP.dtypes == (\"float64\")].index\n",
        "corr = np.corrcoef(CENSOGRP[int_fields].transpose())\n",
        "correlacao = pd.DataFrame(data=corr, index=int_fields, columns=int_fields)\n",
        "\n",
        "print(\"\\nMatriz de correlação dos atributos inteiros:\\n{0}\".format(correlacao))"
      ],
      "metadata": {
        "id": "W7xIoRBu0jbs"
      },
      "execution_count": null,
      "outputs": []
    },
    {
      "cell_type": "code",
      "source": [
        "#histograma das correlações\n",
        "plt.hist(correlacao)\n",
        "plt.show()"
      ],
      "metadata": {
        "id": "pmsCn0RGN8g7"
      },
      "execution_count": null,
      "outputs": []
    },
    {
      "cell_type": "markdown",
      "source": [
        "#Importar base de dados: Sinopse Estatística da Educação Básica 2022\n",
        "\n",
        "## Sinopse Estatística da Educação Básica 2022\n",
        "\n",
        "Essa base de dados pode ser obtida em: https://download.inep.gov.br/dados_abertos/sinopses_estatisticas/sinopses_estatisticas_censo_escolar_2022.zip\n"
      ],
      "metadata": {
        "id": "rYaPHhKrSJjN"
      }
    },
    {
      "cell_type": "code",
      "source": [
        "from google.colab import files\n",
        "\n",
        "uploaded = files.upload()"
      ],
      "metadata": {
        "id": "aP6vaHaASJ81"
      },
      "execution_count": null,
      "outputs": []
    },
    {
      "cell_type": "markdown",
      "source": [
        "#Criação do Dataframe SINOPSE\n",
        "\n",
        "Documento baseado no CENSO 2022, com dados sumarizados por municípios, mas que possuem no entando o detalhamento de alguns valores que foram omitidos nos microdados do CENSO, por questões de privacidade, para a não identificação dos indivíduos.\n",
        "\n",
        "Conterá apenas os parâmetros definidos para a análise nesse projeto, incluindo nossa variável dependente: Altas Habilidades / Superdotação"
      ],
      "metadata": {
        "id": "pyM92gtp_EwJ"
      }
    },
    {
      "cell_type": "code",
      "source": [
        "#Criando Dataframe SINOPSE\n",
        "SINOPSE = pd.read_excel('/content/Sinopse_Estatistica_da_Educação_Basica_2022.xlsx',sheet_name = '1.43',header = 0,usecols=['Código do Município','Altas Habilidades / Superdotação'])\n"
      ],
      "metadata": {
        "id": "4pwPdfmu-bVW"
      },
      "execution_count": 15,
      "outputs": []
    },
    {
      "cell_type": "markdown",
      "source": [
        "#Dimensões, campos e tipo de dados do Dataframe SINOPSE\n",
        "\n",
        "\n"
      ],
      "metadata": {
        "id": "yGChH7LS4T2B"
      }
    },
    {
      "cell_type": "code",
      "source": [
        "#Avaliando dimensões\n",
        "print(\"\\nDimensões de SINOPSE:\\n{0}\\n\".format(SINOPSE.shape))\n",
        "print(\"\\nCampos de SINOPSE:\\n{0}\\n\".format(list(SINOPSE.keys())))\n",
        "print(\"\\nTipos dos SINOPSE:\\n{0}\\n\".format(SINOPSE.dtypes))"
      ],
      "metadata": {
        "id": "zq5AC-Dl2ZUC"
      },
      "execution_count": null,
      "outputs": []
    },
    {
      "cell_type": "markdown",
      "source": [
        "#Alteração de coluna no Dataframe SINOPSE\n",
        "\n",
        "###Alteração nome da coluna Altas Habilidades / Superdotação para AH/SD\n",
        "Por ser um nome muito extenso e para facilitar a utilização dessa coluna que será muito utilizada por se tratar da nossa variável dependente."
      ],
      "metadata": {
        "id": "vWdku7b_4pb8"
      }
    },
    {
      "cell_type": "code",
      "source": [
        "#Altera nome da coluna Altas Habilidades / Superdotação para AH/SD\n",
        "SINOPSE.columns = ['Código do Município' , 'AH/SD']"
      ],
      "metadata": {
        "id": "w9ZJxBy4I0sg"
      },
      "execution_count": 17,
      "outputs": []
    },
    {
      "cell_type": "markdown",
      "source": [
        "\n",
        "## Análise do Dataframe SINOPSE\n",
        "\n",
        "Verificação da existencia de dados faltantes."
      ],
      "metadata": {
        "id": "gAZxomzs6fjx"
      }
    },
    {
      "cell_type": "code",
      "source": [
        "#Exibe as colunas com elementos faltantes\n",
        "colunas_faltantes = SINOPSE.columns[SINOPSE.isna().any()].tolist()\n",
        "print(\"Colunas que contêm valores faltantes:\",colunas_faltantes)\n",
        "\n",
        "#Exibe o número de linhas que restariam caso excluídsemos as faltantes\n",
        "print(\"Número de linhas com valores faltantes:\",SINOPSE.shape[0]-SINOPSE.dropna().shape[0],\"\\n\")"
      ],
      "metadata": {
        "id": "n_B8pWvy2951"
      },
      "execution_count": null,
      "outputs": []
    },
    {
      "cell_type": "markdown",
      "source": [
        "#Saneamento de dados faltantes no Dataframe SINOPSE"
      ],
      "metadata": {
        "id": "rJRNZXtD64zk"
      }
    },
    {
      "cell_type": "code",
      "source": [
        "#Substitui valores nulos por 0 (zero)\n",
        "SINOPSE.fillna(0, inplace = True)\n"
      ],
      "metadata": {
        "id": "gR-vfO1Yluz6"
      },
      "execution_count": 19,
      "outputs": []
    },
    {
      "cell_type": "markdown",
      "source": [
        "## Análise do Dataframe SINOPSE\n",
        "\n",
        "Verificação da existência de chaves duplicadas.\n",
        "* Não houve nenhum tratamento especícico para a ocorrência das chaves duplicadas pois o saneamento dessa ocorrência se deu naturalmente pelo Merge realizado entre os Dataframes CENSOGRO e SINOPSE, que ocorre na sequencia desse notebook."
      ],
      "metadata": {
        "id": "EvHCXHuW4ipR"
      }
    },
    {
      "cell_type": "code",
      "source": [
        "print('Valores únicos',pd.Series(SINOPSE['Código do Município']).unique().shape)\n",
        ""
      ],
      "metadata": {
        "id": "5-Gpqpgpgul5"
      },
      "execution_count": null,
      "outputs": []
    },
    {
      "cell_type": "markdown",
      "source": [
        "#Comparativo entre os Dataframes CENSOGRP e SINOPSE\n"
      ],
      "metadata": {
        "id": "QGkO1gUN5nuR"
      }
    },
    {
      "cell_type": "code",
      "source": [
        "print(\"\\nDimensões de CENSOGRP:\\n{0}\\n\".format(CENSOGRP.shape))\n",
        "print(\"\\nDimensões de SINOP:\\n{0}\\n\".format(SINOPSE.shape))"
      ],
      "metadata": {
        "id": "M2uMWBuy-8mm"
      },
      "execution_count": null,
      "outputs": []
    },
    {
      "cell_type": "markdown",
      "source": [
        "#Merge entre os Dataframes CENSOGRP + SINOPSE\n",
        "\n",
        "Junção dos Dataframes CENSOGRP e SINOPSE num novo Dataframe chamado CENSOMRG\n"
      ],
      "metadata": {
        "id": "1VYXVwWozqt4"
      }
    },
    {
      "cell_type": "code",
      "source": [
        "CENSOMRG = CENSOGRP.merge(SINOPSE, left_on='CO_MUNICIPIO', right_on='Código do Município')\n"
      ],
      "metadata": {
        "id": "q4eVZOt7zsoB"
      },
      "execution_count": 22,
      "outputs": []
    },
    {
      "cell_type": "markdown",
      "source": [
        "#Dimensões, campos e tipo de dados do Dataframe CENSOMRG\n"
      ],
      "metadata": {
        "id": "OgERHtQX9TJH"
      }
    },
    {
      "cell_type": "code",
      "source": [
        "print('Shape',CENSOMRG.shape)\n",
        "print(\"\\nCampos de CENSOMRG:\\n{0}\\n\".format(list(CENSOMRG.keys())))\n",
        "print(\"\\nTipos dos CENSOMRG:\\n{0}\\n\".format(CENSOMRG.dtypes))"
      ],
      "metadata": {
        "id": "IVe8Mr-dtWqy"
      },
      "execution_count": null,
      "outputs": []
    },
    {
      "cell_type": "code",
      "source": [
        "print(\"Município com menor valor para AH/SD:\",\"\\n\", \\\n",
        "CENSOMRG[['CO_MUNICIPIO','AH/SD']][CENSOMRG['AH/SD']\\\n",
        "==max(CENSOMRG['AH/SD'])])\n",
        "print(\"Município com menor valor para AH/SD:\",\"\\n\", \\\n",
        "CENSOMRG[['CO_MUNICIPIO','AH/SD']][CENSOMRG['AH/SD']\\\n",
        "==min(CENSOMRG['AH/SD'])])"
      ],
      "metadata": {
        "id": "NspoOpz37pTV"
      },
      "execution_count": null,
      "outputs": []
    },
    {
      "cell_type": "markdown",
      "source": [
        "#Análise do Dataframe CENSOMRG\n",
        "###Análise da variável dependente AH/SD\n",
        "\n",
        "* Sumário estatístico da vaiável AH/SD\n",
        "* Distribuição das ocorrências da variável AH/SD\n",
        "* Histograma da variável AH/SD"
      ],
      "metadata": {
        "id": "1031Kp9N7566"
      }
    },
    {
      "cell_type": "code",
      "source": [
        "plt.rc('axes', labelsize=12)\n",
        "plt.rc('xtick', labelsize=8)\n",
        "plt.rc('ytick', labelsize=8)\n",
        "\n",
        "## Preparação para impressão dos dois gráficos sobrepostos\n",
        "fig, ax = plt.subplots(2, 1, figsize = (12,8))\n",
        "\n",
        "## Primeiro o boxplot\n",
        "CENSOMRG.boxplot('AH/SD', ax = ax[0], vert=False,return_type='dict',rot=0, fontsize=12)\n",
        "\n",
        "## Agora o histograma\n",
        "temp = CENSOMRG['AH/SD'].values\n",
        "ax[1].hist(temp, bins = 30, alpha = 0.7)\n",
        "plt.ylabel('Número de Cidades')\n",
        "plt.xlabel('AH/SD')\n",
        "\n",
        "CENSOMRG['AH/SD'].describe().round(2).astype(str)\n"
      ],
      "metadata": {
        "id": "WtYVf9np8H8W"
      },
      "execution_count": null,
      "outputs": []
    },
    {
      "cell_type": "markdown",
      "source": [
        "#Análise do Dataframe CENSOMRG\n",
        "###Análise de ocorrência variável dependente AH/SD por estado"
      ],
      "metadata": {
        "id": "HeoVmvLd_lFu"
      }
    },
    {
      "cell_type": "code",
      "source": [
        "#Cria a coluna 'indice_ordenado'\n",
        "CENSOMRG.sort_values(by='AH/SD', ascending=True, inplace = True)\n",
        "CENSOMRG['indice_ordenado']=np.arange(0,CENSOMRG.shape[0])\n",
        "CENSOMRG.sort_index(ascending=True, inplace = True)\n",
        "# Imprime o gráfico\n",
        "plt.rc('axes', labelsize=30)\n",
        "plt.rc('xtick', labelsize=30)\n",
        "plt.rc('ytick', labelsize=30)\n",
        "fig, ax = plt.subplots(2, 1, figsize = (36,36))\n",
        "ax[0].scatter(CENSOMRG['SG_UF'],CENSOMRG['AH/SD'])\n",
        "ax[0].set_xlabel('Municípios (não ordenados)')\n",
        "ax[0].set_ylabel('AH/SD')\n",
        "ax[1].scatter(CENSOMRG['indice_ordenado'],CENSOMRG['AH/SD'])\n",
        "ax[1].set_xlabel('Municípios (em ordem crescente de AH/SD)')\n",
        "ax[1].set_ylabel('AH/SD')\n",
        "plt.show()"
      ],
      "metadata": {
        "id": "J0NGs28O8r2W"
      },
      "execution_count": null,
      "outputs": []
    },
    {
      "cell_type": "markdown",
      "source": [
        "#Imprime as variáveis do Dataframe CENSOGRP\n",
        "\n"
      ],
      "metadata": {
        "id": "wdyg6WdZ96yY"
      }
    },
    {
      "cell_type": "code",
      "source": [
        "print(len(CENSOMRG.columns.tolist()))\n",
        "print(CENSOMRG.columns.tolist())\n"
      ],
      "metadata": {
        "id": "Z0Ea-Wpb97bc"
      },
      "execution_count": null,
      "outputs": []
    },
    {
      "cell_type": "markdown",
      "source": [
        "#Matriz de correlação do Dataframe CENSOGRP\n",
        "Matriz de correlação entre a variável dependente e as variáveis independentes"
      ],
      "metadata": {
        "id": "eyW61k-cAh_b"
      }
    },
    {
      "cell_type": "code",
      "source": [
        "colunas = ['NO_UF', 'SG_UF', 'CO_MUNICIPIO', 'CO_ENTIDADE', 'IN_BIBLIOTECA', 'IN_BIBLIOTECA_SALA_LEITURA', 'IN_LABORATORIO_CIENCIAS', 'IN_LABORATORIO_INFORMATICA', 'IN_SALA_ATELIE_ARTES', 'IN_SALA_MUSICA_CORAL', 'IN_SALA_ESTUDIO_DANCA', 'IN_SALA_MULTIUSO', 'IN_SALA_LEITURA', 'IN_SALA_REPOUSO_ALUNO', 'IN_SALA_ATENDIMENTO_ESPECIAL', 'IN_DESKTOP_ALUNO', 'IN_COMP_PORTATIL_ALUNO', 'IN_TABLET_ALUNO', 'IN_PROF_BIBLIOTECARIO', 'IN_PROF_SAUDE', 'IN_PROF_COORDENADOR', 'IN_PROF_FONAUDIOLOGO', 'IN_PROF_NUTRICIONISTA', 'IN_PROF_PSICOLOGO', 'IN_PROF_PEDAGOGIA', 'IN_PROF_MONITORES', 'IN_PROF_ASSIST_SOCIAL', 'Código do Município', 'AH/SD', 'indice_ordenado']\n",
        "\n",
        "correlacoes=CENSOMRG[colunas].corr().abs()\n",
        "print (CENSOMRG[colunas].shape)\n",
        "correlacoes=correlacoes['AH/SD'].sort_values(ascending=False)\n",
        "print(\"Correlações com 'AH/SD'\")\n",
        "df_correlacoes = pd.DataFrame(correlacoes)\n",
        "print(df_correlacoes)\n",
        "\n"
      ],
      "metadata": {
        "id": "X2-A64bv-VgN"
      },
      "execution_count": null,
      "outputs": []
    },
    {
      "cell_type": "markdown",
      "source": [
        "#Treinamento do Dataframe CENSOMRG\n",
        "\n",
        "Utilizando 75% da base para treinamento e 25% para teste\n"
      ],
      "metadata": {
        "id": "etj1h81aA9bF"
      }
    },
    {
      "cell_type": "code",
      "source": [
        "#Definindo y\n",
        "y=CENSOMRG['AH/SD']\n",
        "#Removendo 'y' e demais parâmetros categoricos\n",
        "X=CENSOMRG.drop(['AH/SD','NO_UF','CO_MUNICIPIO','SG_UF','CO_ENTIDADE'],axis=1)\n",
        "\n",
        "# Recupera os nomes dos atributos\n",
        "atributos = list(CENSOMRG)[1:(CENSOMRG.shape[1] - 1)]\n",
        "rotulo = list(CENSOMRG)[(CENSOMRG.shape[1] - 1)]\n",
        "\n",
        "# Amostragem de dados\n",
        "X_train, X_test, y_train, y_test = train_test_split(X, y, test_size=0.25, random_state=0)\n",
        "\n"
      ],
      "metadata": {
        "id": "o3cDz8Dl_e7P"
      },
      "execution_count": 34,
      "outputs": []
    },
    {
      "cell_type": "markdown",
      "source": [
        "#Demonstração de erros do treinamento\n"
      ],
      "metadata": {
        "id": "luBbWBcbBgQz"
      }
    },
    {
      "cell_type": "code",
      "source": [
        "seaborn.set(style='whitegrid')\n",
        "seaborn.scatterplot( x=y_test, y=y_prev  )\n",
        "\n",
        "# Calcula o erro absoluto e o erro percentual da regressao linear\n",
        "errolnr = np.abs(y_test - y_prev)\n",
        "erroperc = errolnr / list(y_test)\n",
        "\n",
        "print('Erro percentual:\\n Média: {0:.2f}  Max: {1:.2f}   Min: {2:.2f}'\n",
        "      .format(np.mean(erroperc), np.max(erroperc), np.min(erroperc)))\n",
        "\n",
        "plt.figure(figsize=(6, 4))\n",
        "plt.errorbar(np.arange(y_test.size), list(y_test), yerr=errolnr,\n",
        "             fmt='.', ecolor='r', capsize=3)\n",
        "plt.title(\"Valores reais (barras de erro de predição)\")\n",
        "plt.grid()\n",
        "\n",
        "print(\"Base de treinamento:{0}\".format(X_train.shape))\n",
        "print(\"Base de teste:{0}\".format(X_test.shape))\n"
      ],
      "metadata": {
        "id": "RL3fbeUw94aW"
      },
      "execution_count": null,
      "outputs": []
    },
    {
      "cell_type": "code",
      "source": [
        "\n",
        "fig, ax = plt.subplots(1, 2, figsize=(7, 4))\n",
        "plt.suptitle(\"Erros de previsão\")\n",
        "ax[0].plot(errolnr,'.')\n",
        "ax[0].set_xlabel(\"Erro absoluto\")\n",
        "ax[0].grid()\n",
        "ax[1].plot(erroperc,'.')\n",
        "ax[1].set_xlabel(\"Erro percentual\")\n",
        "ax[1].grid()\n"
      ],
      "metadata": {
        "id": "4cRapBkW-b2t"
      },
      "execution_count": null,
      "outputs": []
    },
    {
      "metadata": {
        "id": "wkYibP01KlDR"
      },
      "cell_type": "markdown",
      "source": [
        "# Modelo: REGRESSÃO LINEAR\n",
        "\n"
      ]
    },
    {
      "metadata": {
        "id": "RJuZS1WkK5s2"
      },
      "cell_type": "code",
      "source": [
        "lnr = LinearRegression().fit(X_train, y_train)\n",
        "\n",
        "y_prev = lnr.predict(X_test)\n",
        "\n",
        "print(\"Acurácia da base de treinamento: {:.2f}\".format(lnr.score(X_train, y_train)))\n",
        "print(\"Acurácia da base de testes: {:.2f}\".format(lnr.score(X_test, y_test)))\n",
        "print(\"Descrição do modelo: LinearRegression\")\n",
        "s = [\"{0}: {1:0.2f}\".format(a, v) for a, v in zip(atributos, lnr.coef_)]\n",
        "print(\"w: {}  b: {:.2f}\".format(s, lnr.intercept_))\n",
        "print(\"Número de atributos usados: {}\".format(np.sum(lnr.coef_ != 0)))\n",
        "\n",
        "\n",
        "#imprime_scatter_plot(np.log(y_test),np.log(y_pred))\n",
        "plt.scatter(y_test, y_pred)\n",
        "range = [y_test.min(), y_pred.max()]\n",
        "plt.plot(range, range, 'red')\n",
        "plt.xlabel('AH/SD REAL')\n",
        "plt.ylabel('AH/SD predita')\n",
        "plt.show()"
      ],
      "execution_count": null,
      "outputs": []
    },
    {
      "metadata": {
        "id": "rdqPARNoMgkS"
      },
      "cell_type": "markdown",
      "source": [
        "# Modelo: REGRESSÃO LOGÍSTICA\n"
      ]
    },
    {
      "cell_type": "code",
      "source": [
        "lgr = LogisticRegression(solver='lbfgs', max_iter=1000).fit(X_train,y_train)\n",
        "\n",
        "\n",
        "y_pred=lgr.predict(X_test)\n",
        "\n",
        "print(\"Acurácia da base de treinamento: {:.2f}\".format(lgr.score(X_train, y_train)))\n",
        "print(\"Acurácia da base de testes: {:.2f}\".format(lgr.score(X_test, y_test)))\n",
        "print(\"Descrição do modelo: LogisticRegression\")\n",
        "\n",
        "#imprime_scatter_plot(np.log(y_test),np.log(y_pred))\n",
        "plt.scatter(y_test, y_pred)\n",
        "range = [y_test.min(), y_pred.max()]\n",
        "plt.plot(range, range, 'red')\n",
        "plt.xlabel('AH/SD REAL')\n",
        "plt.ylabel('AH/SD predita')\n",
        "plt.show()\n",
        "\n"
      ],
      "metadata": {
        "id": "_odSMGa067fJ"
      },
      "execution_count": null,
      "outputs": []
    },
    {
      "cell_type": "markdown",
      "source": [
        "#Modelo: RIDGE"
      ],
      "metadata": {
        "id": "P47YL-dCqTRm"
      }
    },
    {
      "cell_type": "code",
      "source": [
        "Ridge = Ridge.fit(X_train, y_train)\n",
        "Ridge.predict(X_test)\n",
        "\n",
        "print(\"Ridge\")\n",
        "print(Ridge.predict(X_test))\n",
        "print(\"Acurácia da base de treinamento: {:.2f}\".format(Ridge.score(X_train, y_train)))\n",
        "print(\"Acurácia da base de testes: {:.2f}\".format(Ridge.score(X_test, y_test)))\n",
        "print(\"Descrição do modelo: Ridge\")\n",
        "y_pred=Ridge.predict(X_test)\n",
        "\n",
        "#imprime_scatter_plot(np.log(y_test),np.log(y_pred))\n",
        "plt.scatter(y_test, y_pred)\n",
        "range = [y_test.min(), y_pred.max()]\n",
        "plt.plot(range, range, 'red')\n",
        "plt.xlabel('AH/SD REAL')\n",
        "plt.ylabel('AH/SD predita')\n",
        "plt.show()\n",
        ""
      ],
      "metadata": {
        "id": "g-M5l0DwqbDg"
      },
      "execution_count": null,
      "outputs": []
    },
    {
      "cell_type": "markdown",
      "source": [
        "#Modelo: ÁRVORE DE DECISÃO"
      ],
      "metadata": {
        "id": "FJCfE0lACV_q"
      }
    },
    {
      "cell_type": "code",
      "source": [
        "dtc = DecisionTreeClassifier()\n",
        "dtc.fit(X_train, y_train)\n",
        "print(\"DecisionTreeClassifier\")\n",
        "print(dtc.predict(X_test))\n",
        "\n",
        "print(dtc.predict(X_test))\n",
        "print(\"Acurácia da base de treinamento: {:.2f}\".format(dtc.score(X_train, y_train)))\n",
        "print(\"Acurácia da base de testes: {:.2f}\".format(dtc.score(X_test, y_test)))\n",
        "print(\"Descrição do modelo: DecisionTreeClassifier\")\n",
        "\n",
        "y_pred=dtc.predict(X_test)\n",
        "\n",
        "#imprime_scatter_plot(np.log(y_test),np.log(y_pred))\n",
        "plt.scatter(y_test, y_pred)\n",
        "range = [y_test.min(), y_pred.max()]\n",
        "plt.plot(range, range, 'red')\n",
        "plt.xlabel('AH/SD REAL')\n",
        "plt.ylabel('AH/SD predita')\n",
        "plt.show()\n",
        ""
      ],
      "metadata": {
        "id": "sfq-qCY2pAyK"
      },
      "execution_count": null,
      "outputs": []
    },
    {
      "cell_type": "markdown",
      "source": [
        "#Modelo: LASSO"
      ],
      "metadata": {
        "id": "Zq3a2FJpCewD"
      }
    },
    {
      "cell_type": "code",
      "source": [
        "Lasso = Lasso.fit(X_train, y_train)\n",
        "print(\"Lasso\")\n",
        "print(Lasso.predict(X_test))\n",
        "\n",
        "print(\"Acurácia da base de treinamento: {:.2f}\".format(Lasso.score(X_train, y_train)))\n",
        "print(\"Acurácia da base de testes: {:.2f}\".format(Lasso.score(X_test, y_test)))\n",
        "print(\"Descrição do modelo: Lasso\")\n",
        "\n",
        "y_pred=Lasso.predict(X_test)\n",
        "\n",
        "#imprime_scatter_plot(np.log(y_test),np.log(y_pred))\n",
        "plt.scatter(y_test, y_pred)\n",
        "range = [y_test.min(), y_pred.max()]\n",
        "plt.plot(range, range, 'red')\n",
        "plt.xlabel('AH/SD REAL')\n",
        "plt.ylabel('AH/SD predita')\n",
        "plt.show()"
      ],
      "metadata": {
        "id": "0k4-28oobFRz"
      },
      "execution_count": null,
      "outputs": []
    },
    {
      "cell_type": "markdown",
      "source": [
        "#Modelo: ELASTICNET"
      ],
      "metadata": {
        "id": "RLmA8iVkCjW2"
      }
    },
    {
      "cell_type": "markdown",
      "source": [
        "Modelo: FLORESTA ALEATÓRIA"
      ],
      "metadata": {
        "id": "qvjCbYFRCohA"
      }
    },
    {
      "cell_type": "code",
      "source": [
        "RandomForestRegressor = RandomForestRegressor.fit(X_train, y_train\n",
        "print(\"RandomForestRegressor\")\n",
        "print(RandomForestRegressor.predict(X_test))\n",
        "\n",
        "print(\"Acurácia da base de treinamento: {:.2f}\".format(RandomForestRegressor.score(X_train, y_train)))\n",
        "print(\"Acurácia da base de testes: {:.2f}\".format(RandomForestRegressor.score(X_test, y_test)))\n",
        "print(\"Descrição do modelo: RandomForestRegressor\")\n",
        "\n",
        "y_pred=RandomForestRegressor.predict(X_test)\n",
        "\n",
        "#imprime_scatter_plot(np.log(y_test),np.log(y_pred))\n",
        "plt.scatter(y_test, y_pred)\n",
        "range = [y_test.min(), y_pred.max()]\n",
        "plt.plot(range, range, 'red')\n",
        "plt.xlabel('AH/SD REAL')\n",
        "plt.ylabel('AH/SD predita')\n",
        "plt.show()"
      ],
      "metadata": {
        "id": "Clsbqx7sbZDL"
      },
      "execution_count": null,
      "outputs": []
    },
    {
      "cell_type": "markdown",
      "source": [
        "##Importar base de dados: Municípios\n",
        "\n",
        "## Municipios brasileiros\n",
        "\n",
        "Essa base de dados pode ser obtida em: raw.githubusercontent.com/kelvins/Municipios-Brasileiros/main/csv/municipios.csv\n",
        "\n",
        "\n"
      ],
      "metadata": {
        "id": "BiSf2LnAIWo4"
      }
    },
    {
      "cell_type": "code",
      "source": [
        "from google.colab import files\n",
        "\n",
        "uploaded = files.upload()\n"
      ],
      "metadata": {
        "id": "k-GS6m7UHd5Z"
      },
      "execution_count": null,
      "outputs": []
    },
    {
      "cell_type": "markdown",
      "source": [
        "#Criação do Dataframe GEOLOC\n",
        "\n",
        "\n",
        "Conterá apenas os parâmetros: codigo_ibge, latitude e longitude\n",
        "\n",
        "\n"
      ],
      "metadata": {
        "id": "TMQwvJqBIkuK"
      }
    },
    {
      "cell_type": "code",
      "source": [
        "GEOLOC = pd.read_csv('/content/Municipios-Brasileiros.csv',  header = 0, sep=',',encoding='ISO-8859-1',usecols=['codigo_ibge','latitude','longitude' ])\n"
      ],
      "metadata": {
        "id": "ZNSgRZ-QIzty"
      },
      "execution_count": 46,
      "outputs": []
    },
    {
      "cell_type": "markdown",
      "source": [
        "#Dimensões, campos e tipo de dados do Dataframe GEOLOC\n"
      ],
      "metadata": {
        "id": "PtYdxizYI9lo"
      }
    },
    {
      "cell_type": "code",
      "source": [
        "#Avaliando dimensões\n",
        "print(\"\\nDimensões de GEOLOC:\\n{0}\\n\".format(GEOLOC.shape))\n",
        "print(\"\\nCampos de GEOLOC:\\n{0}\\n\".format(list(GEOLOC.keys())))\n",
        "print(\"\\nTipos dos GEOLOC:\\n{0}\\n\".format(GEOLOC.dtypes))"
      ],
      "metadata": {
        "id": "6DbB_XgVJGJE"
      },
      "execution_count": null,
      "outputs": []
    },
    {
      "cell_type": "markdown",
      "source": [
        "#Comparativo entre os Dataframes CENSOGRP e GEOLOC\n"
      ],
      "metadata": {
        "id": "nDUlDnscTNLm"
      }
    },
    {
      "cell_type": "code",
      "source": [
        "print(\"\\nDimensões de CENSOGRP:\\n{0}\\n\".format(CENSOGRP.shape))\n",
        "print(\"\\nDimensões de GEOLOC:\\n{0}\\n\".format(GEOLOC.shape))"
      ],
      "metadata": {
        "id": "BBxdaM3WTPtR"
      },
      "execution_count": null,
      "outputs": []
    },
    {
      "cell_type": "markdown",
      "source": [
        "#Merge entre os Dataframes CENSOMRG + GEOLOC\n",
        "Junção dos Dataframes CENSOMRG e GEOLOC num novo Dataframe chamado CENSOGEO\n",
        "\n"
      ],
      "metadata": {
        "id": "rQc3xiF9JRtH"
      }
    },
    {
      "cell_type": "code",
      "source": [
        "CENSOGEO = CENSOMRG.merge(GEOLOC, left_on='Código do Município', right_on='codigo_ibge')\n"
      ],
      "metadata": {
        "id": "pkDveelQJW-9"
      },
      "execution_count": 50,
      "outputs": []
    },
    {
      "cell_type": "markdown",
      "source": [
        "#Dimensões, campos e tipo de dados do Dataframe CENSOGEO"
      ],
      "metadata": {
        "id": "EPixhuK-Jok3"
      }
    },
    {
      "cell_type": "code",
      "source": [
        "#Avaliando dimensões\n",
        "print(\"\\nDimensões de CENSOGEO:\\n{0}\\n\".format(CENSOGEO.shape))\n",
        "print(\"\\nCampos de CENSOGEO:\\n{0}\\n\".format(list(CENSOGEO.keys())))\n",
        "print(\"\\nTipos dos CENSOGEO:\\n{0}\\n\".format(CENSOGEO.dtypes))"
      ],
      "metadata": {
        "id": "s3c-23R2Jq7j"
      },
      "execution_count": null,
      "outputs": []
    },
    {
      "cell_type": "markdown",
      "source": [
        "## Análise do Dataframe CENSOGEO\n",
        "\n",
        "Verificação da existencia de dados faltantes."
      ],
      "metadata": {
        "id": "ASh43G9YKlA1"
      }
    },
    {
      "cell_type": "code",
      "source": [
        "#Exibe as colunas com elementos faltantes\n",
        "colunas_faltantes = CENSOGEO.columns[CENSOGEO.isna().any()].tolist()\n",
        "print(\"Colunas que contêm valores faltantes:\",colunas_faltantes)\n",
        "\n",
        "#Exibe o número de linhas que restariam caso excluídsemos as faltantes\n",
        "print(\"Número de linhas com valores faltantes:\",CENSOGEO.shape[0]-CENSOGEO.dropna().shape[0],\"\\n\")"
      ],
      "metadata": {
        "colab": {
          "base_uri": "https://localhost:8080/",
          "height": 0
        },
        "id": "_wKp_kYJKrUy",
        "outputId": "a11f7415-01a1-45ef-f3fa-82be243ddab6"
      },
      "execution_count": 54,
      "outputs": [
        {
          "output_type": "stream",
          "name": "stdout",
          "text": [
            "Colunas que contêm valores faltantes: []\n",
            "Número de linhas com valores faltantes: 0 \n",
            "\n"
          ]
        }
      ]
    },
    {
      "cell_type": "markdown",
      "source": [
        "#Mapa AH/SD"
      ],
      "metadata": {
        "id": "JawV7shVLOI9"
      }
    },
    {
      "cell_type": "code",
      "source": [
        "CENSOGEO.plot.scatter( y='latitude', x='longitude',\n",
        "c = CENSOGEO['AH/SD'],\n",
        "cmap = 'RdYlGn',\n",
        "figsize =(10,8), title='AH/SD')"
      ],
      "metadata": {
        "id": "p4c-tG-MLmjB"
      },
      "execution_count": null,
      "outputs": []
    }
  ]
}